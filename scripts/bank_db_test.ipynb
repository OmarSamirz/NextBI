{
 "cells": [
  {
   "cell_type": "code",
   "execution_count": 1,
   "id": "779c2206-a5ce-4344-8837-7fc445032e5a",
   "metadata": {
    "vscode": {
     "languageId": "teradata sql"
    }
   },
   "outputs": [
    {
     "name": "stdout",
     "output_type": "stream",
     "text": [
      "Password: ··········\n"
     ]
    },
    {
     "name": "stdout",
     "output_type": "stream",
     "text": [
      "Success: 'local' connection established and activated for user 'demo_user', with default database 'demo_user'\n"
     ]
    }
   ],
   "source": [
    "%connect local, hidewarnings=True"
   ]
  },
  {
   "cell_type": "code",
   "execution_count": null,
   "id": "053546e6-6bf0-433d-a13d-8eda576948c2",
   "metadata": {
    "vscode": {
     "languageId": "teradata sql"
    }
   },
   "outputs": [
    {
     "data": {
      "application/vnd.teradata.resultset": "\"Count(*)\"\n\"1000\"",
      "text/html": [
       "<div class = \"td-resultset-table-div\" style = \"max-height: 100%; overflow-y: auto\">\n",
       "      <table class=\"tdhistory66890\"><style>\n",
       "      table.tdhistory66890 { display: block !important; min-height: 105px !important; overflow: auto !important; height: 105px !important; width: 100% !important; border: 1px solid rgb(207, 207, 207) !important; border-collapse: collapse !important; ; color: var(--jp-ui-font-color1) !important; }\n",
       "      th.tdhistory66890 { border: 1px solid rgb(198,198,198) !important; border-collapse: collapse !important; ; padding: 2px 5px !important; ; font-size: 13px !important; ; text-align: center !important; white-space: normal !important; color: var(--jp-ui-font-color1) !important; }\n",
       "      th.tdhistory66890:last-child { text-align: left !important; }\n",
       "      tbody.tdhistory66890 tr:nth-child(even) { background: rgba(243, 243, 243, 0.75) !important; }\n",
       "      tbody.tdhistory66890 tr:nth-child(odd) { background: var(--jp-ui-inverse-font-color1) !important; }\n",
       "      td.tdhistory66890 { border: 1px solid rgb(207, 207, 207) !important; border-collapse: collapse !important; ; padding: 2px 5px !important; ; font-size: 13px !important; ; text-align: left !important;          white-space: nowrap !important; overflow:hidden !important; text-overflow:ellipsis !important;; }\n",
       "    </style><thead><tr style= \"background: rgba(243, 243, 243, 0.75)\"><th class=\"tdhistory66890\"></th><th class=\"tdhistory66890\">Count(*)</th></tr></thead><tbody class=\"tdhistory66890 resultset-body\"><tr><th class=\"tdhistory66890\" style= \"background: rgba(243, 243, 243, 0.75)\">1</th><td class=\"tdhistory66890\">1000</td></tr></tbody></table></div>"
      ]
     },
     "execution_count": 12,
     "metadata": {
      "application/vnd.teradata.resultset": "{\"resultSetID\":\"/home/jovyan/JupyterLabRoot/Teradata/Resultsets/2025.09.11_06.14.04.704_UTC\",\"historyID\":75,\"chunkID\":\"00001\",\"sessionid\":\"\",\"portnum\":\"\",\"dockermode\":\"docker\",\"totalRowCount\":1,\"chunkCount\":0,\"rowLimit\":0,\"columnMetadata\":[{\"columnName\":\"Count(*)\",\"columnTypeName\":\"INTEGER\"}]}"
     },
     "output_type": "execute_result"
    }
   ],
   "source": [
    "-- Test\n",
    "SELECT COUNT(*)\n",
    "FROM BANK_DB.transactions"
   ]
  },
  {
   "cell_type": "code",
   "execution_count": 13,
   "id": "6aabc044-b0ce-41f8-94b9-1eb8390ccc06",
   "metadata": {
    "vscode": {
     "languageId": "teradata sql"
    }
   },
   "outputs": [
    {
     "data": {
      "application/vnd.teradata.resultset": "\"Count(*)\"\n\"100\"",
      "text/html": [
       "<div class = \"td-resultset-table-div\" style = \"max-height: 100%; overflow-y: auto\">\n",
       "      <table class=\"tdhistory251086\"><style>\n",
       "      table.tdhistory251086 { display: block !important; min-height: 105px !important; overflow: auto !important; height: 105px !important; width: 100% !important; border: 1px solid rgb(207, 207, 207) !important; border-collapse: collapse !important; ; color: var(--jp-ui-font-color1) !important; }\n",
       "      th.tdhistory251086 { border: 1px solid rgb(198,198,198) !important; border-collapse: collapse !important; ; padding: 2px 5px !important; ; font-size: 13px !important; ; text-align: center !important; white-space: normal !important; color: var(--jp-ui-font-color1) !important; }\n",
       "      th.tdhistory251086:last-child { text-align: left !important; }\n",
       "      tbody.tdhistory251086 tr:nth-child(even) { background: rgba(243, 243, 243, 0.75) !important; }\n",
       "      tbody.tdhistory251086 tr:nth-child(odd) { background: var(--jp-ui-inverse-font-color1) !important; }\n",
       "      td.tdhistory251086 { border: 1px solid rgb(207, 207, 207) !important; border-collapse: collapse !important; ; padding: 2px 5px !important; ; font-size: 13px !important; ; text-align: left !important;          white-space: nowrap !important; overflow:hidden !important; text-overflow:ellipsis !important;; }\n",
       "    </style><thead><tr style= \"background: rgba(243, 243, 243, 0.75)\"><th class=\"tdhistory251086\"></th><th class=\"tdhistory251086\">Count(*)</th></tr></thead><tbody class=\"tdhistory251086 resultset-body\"><tr><th class=\"tdhistory251086\" style= \"background: rgba(243, 243, 243, 0.75)\">1</th><td class=\"tdhistory251086\">100</td></tr></tbody></table></div>"
      ]
     },
     "execution_count": 13,
     "metadata": {
      "application/vnd.teradata.resultset": "{\"resultSetID\":\"/home/jovyan/JupyterLabRoot/Teradata/Resultsets/2025.09.11_06.14.16.040_UTC\",\"historyID\":76,\"chunkID\":\"00001\",\"sessionid\":\"\",\"portnum\":\"\",\"dockermode\":\"docker\",\"totalRowCount\":1,\"chunkCount\":0,\"rowLimit\":0,\"columnMetadata\":[{\"columnName\":\"Count(*)\",\"columnTypeName\":\"INTEGER\"}]}"
     },
     "output_type": "execute_result"
    }
   ],
   "source": [
    "-- Test\n",
    "SELECT COUNT(*)\n",
    "FROM BANK_DB.branches"
   ]
  },
  {
   "cell_type": "code",
   "execution_count": 15,
   "id": "6c48f516-0ddd-4c31-a4f8-f81461344059",
   "metadata": {
    "vscode": {
     "languageId": "teradata sql"
    }
   },
   "outputs": [
    {
     "data": {
      "application/vnd.teradata.resultset": "\"transaction_id\",\"transaction_currency\",\"transaction_type\",\"transaction_amount\",\"branch_id\"\n\"937\",\"USD   \",\"Withdrawal\",\"15256.89\",\"99\"\n\"322\",\"USD   \",\"Deposit\",\"14915.85\",\"61\"\n\"112\",\"USD   \",\"Withdrawal\",\"17338.36\",\"24\"\n\"843\",\"USD   \",\"Payment\",\"10559.02\",\"82\"\n\"384\",\"USD   \",\"Payment\",\"16642.20\",\"47\"\n\"87\",\"USD   \",\"Payment\",\"1013.87\",\"32\"\n\"380\",\"USD   \",\"Deposit\",\"17243.58\",\"74\"\n\"23\",\"USD   \",\"Transfer\",\"2657.81\",\"45\"\n\"706\",\"USD   \",\"Withdrawal\",\"6611.96\",\"11\"\n\"767\",\"USD   \",\"Deposit\",\"6818.45\",\"99\"",
      "text/html": [
       "<div class = \"td-resultset-table-div\" style = \"max-height: 100%; overflow-y: auto\">\n",
       "      <table class=\"tdhistory147576\"><style>\n",
       "      table.tdhistory147576 { display: block !important; min-height: 294px !important; overflow: auto !important; height: 294px !important; width: 100% !important; border: 1px solid rgb(207, 207, 207) !important; border-collapse: collapse !important; ; color: var(--jp-ui-font-color1) !important; }\n",
       "      th.tdhistory147576 { border: 1px solid rgb(198,198,198) !important; border-collapse: collapse !important; ; padding: 2px 5px !important; ; font-size: 13px !important; ; text-align: center !important; white-space: normal !important; color: var(--jp-ui-font-color1) !important; }\n",
       "      th.tdhistory147576:last-child { text-align: left !important; }\n",
       "      tbody.tdhistory147576 tr:nth-child(even) { background: rgba(243, 243, 243, 0.75) !important; }\n",
       "      tbody.tdhistory147576 tr:nth-child(odd) { background: var(--jp-ui-inverse-font-color1) !important; }\n",
       "      td.tdhistory147576 { border: 1px solid rgb(207, 207, 207) !important; border-collapse: collapse !important; ; padding: 2px 5px !important; ; font-size: 13px !important; ; text-align: left !important;          white-space: nowrap !important; overflow:hidden !important; text-overflow:ellipsis !important;; }\n",
       "    </style><thead><tr style= \"background: rgba(243, 243, 243, 0.75)\"><th class=\"tdhistory147576\"></th><th class=\"tdhistory147576\">transaction_id</th><th class=\"tdhistory147576\">transaction_currency</th><th class=\"tdhistory147576\">transaction_type</th><th class=\"tdhistory147576\">transaction_amount</th><th class=\"tdhistory147576\">branch_id</th></tr></thead><tbody class=\"tdhistory147576 resultset-body\"><tr><th class=\"tdhistory147576\" style= \"background: rgba(243, 243, 243, 0.75)\">1</th><td class=\"tdhistory147576\">937</td><td class=\"tdhistory147576\">USD   </td><td class=\"tdhistory147576\">Withdrawal</td><td class=\"tdhistory147576\">15256.89</td><td class=\"tdhistory147576\">99</td></tr><tr><th class=\"tdhistory147576\" style= \"background: rgba(243, 243, 243, 0.75)\">2</th><td class=\"tdhistory147576\">322</td><td class=\"tdhistory147576\">USD   </td><td class=\"tdhistory147576\">Deposit</td><td class=\"tdhistory147576\">14915.85</td><td class=\"tdhistory147576\">61</td></tr><tr><th class=\"tdhistory147576\" style= \"background: rgba(243, 243, 243, 0.75)\">3</th><td class=\"tdhistory147576\">112</td><td class=\"tdhistory147576\">USD   </td><td class=\"tdhistory147576\">Withdrawal</td><td class=\"tdhistory147576\">17338.36</td><td class=\"tdhistory147576\">24</td></tr><tr><th class=\"tdhistory147576\" style= \"background: rgba(243, 243, 243, 0.75)\">4</th><td class=\"tdhistory147576\">843</td><td class=\"tdhistory147576\">USD   </td><td class=\"tdhistory147576\">Payment</td><td class=\"tdhistory147576\">10559.02</td><td class=\"tdhistory147576\">82</td></tr><tr><th class=\"tdhistory147576\" style= \"background: rgba(243, 243, 243, 0.75)\">5</th><td class=\"tdhistory147576\">384</td><td class=\"tdhistory147576\">USD   </td><td class=\"tdhistory147576\">Payment</td><td class=\"tdhistory147576\">16642.20</td><td class=\"tdhistory147576\">47</td></tr><tr><th class=\"tdhistory147576\" style= \"background: rgba(243, 243, 243, 0.75)\">6</th><td class=\"tdhistory147576\">87</td><td class=\"tdhistory147576\">USD   </td><td class=\"tdhistory147576\">Payment</td><td class=\"tdhistory147576\">1013.87</td><td class=\"tdhistory147576\">32</td></tr><tr><th class=\"tdhistory147576\" style= \"background: rgba(243, 243, 243, 0.75)\">7</th><td class=\"tdhistory147576\">380</td><td class=\"tdhistory147576\">USD   </td><td class=\"tdhistory147576\">Deposit</td><td class=\"tdhistory147576\">17243.58</td><td class=\"tdhistory147576\">74</td></tr><tr><th class=\"tdhistory147576\" style= \"background: rgba(243, 243, 243, 0.75)\">8</th><td class=\"tdhistory147576\">23</td><td class=\"tdhistory147576\">USD   </td><td class=\"tdhistory147576\">Transfer</td><td class=\"tdhistory147576\">2657.81</td><td class=\"tdhistory147576\">45</td></tr><tr><th class=\"tdhistory147576\" style= \"background: rgba(243, 243, 243, 0.75)\">9</th><td class=\"tdhistory147576\">706</td><td class=\"tdhistory147576\">USD   </td><td class=\"tdhistory147576\">Withdrawal</td><td class=\"tdhistory147576\">6611.96</td><td class=\"tdhistory147576\">11</td></tr><tr><th class=\"tdhistory147576\" style= \"background: rgba(243, 243, 243, 0.75)\">10</th><td class=\"tdhistory147576\">767</td><td class=\"tdhistory147576\">USD   </td><td class=\"tdhistory147576\">Deposit</td><td class=\"tdhistory147576\">6818.45</td><td class=\"tdhistory147576\">99</td></tr></tbody></table></div>"
      ]
     },
     "execution_count": 15,
     "metadata": {
      "application/vnd.teradata.resultset": "{\"resultSetID\":\"/home/jovyan/JupyterLabRoot/Teradata/Resultsets/2025.09.11_06.14.30.631_UTC\",\"historyID\":78,\"chunkID\":\"00001\",\"sessionid\":\"\",\"portnum\":\"\",\"dockermode\":\"docker\",\"totalRowCount\":10,\"chunkCount\":0,\"rowLimit\":0,\"columnMetadata\":[{\"columnName\":\"transaction_id\",\"columnTypeName\":\"INTEGER\"},{\"columnNumber\":1,\"columnName\":\"transaction_currency\",\"columnTypeName\":\"CHAR\",\"length\":3,\"scale\":3},{\"columnNumber\":2,\"columnName\":\"transaction_type\",\"columnTypeName\":\"VARCHAR\",\"length\":50,\"scale\":50},{\"columnNumber\":3,\"columnName\":\"transaction_amount\",\"columnTypeName\":\"DECIMAL\",\"length\":2,\"precision\":18,\"scale\":2},{\"columnNumber\":4,\"columnName\":\"branch_id\",\"columnTypeName\":\"INTEGER\"}]}"
     },
     "output_type": "execute_result"
    }
   ],
   "source": [
    "-- Test\n",
    "SELECT *\n",
    "FROM BANK_DB.transactions\n",
    "SAMPLE 10"
   ]
  },
  {
   "cell_type": "code",
   "execution_count": 16,
   "id": "a19e0cd3-e1ad-48c8-b674-54b744f943e2",
   "metadata": {
    "vscode": {
     "languageId": "teradata sql"
    }
   },
   "outputs": [
    {
     "data": {
      "application/vnd.teradata.resultset": "\"branch_id\",\"branch_name\",\"governorate\",\"branch_address\",\"latitude\",\"longitude\"\n\"61\",\"Citi Bank South Christopher\",\"Montana\",\"7365 Jason Camp Apt. 793, Campbellborough, IA 94981\",\"37.945097\",\"-80.011863\"\n\"63\",\"Citi Bank Lake Cindy\",\"Massachusetts\",\"8182 Hawkins Lodge, West Maria, PA 39134\",\"32.779745\",\"-124.966258\"\n\"54\",\"Citi Bank South Scottmouth\",\"North Carolina\",\"24836 Joshua Forks, North Julie, HI 06782\",\"35.434366\",\"-118.418422\"\n\"74\",\"Citi Bank East Vincent\",\"Kentucky\",\"17672 Berry Point Apt. 595, Schwartzview, OH 20335\",\"42.518346\",\"-93.181531\"\n\"93\",\"Citi Bank Melissamouth\",\"Pennsylvania\",\"3443 Conner Mount, New Jessica, VA 41268\",\"33.143263\",\"-101.245344\"\n\"52\",\"Citi Bank Lake Amanda\",\"Rhode Island\",\"963 Emily Creek, Andreafort, NE 24854\",\"37.887288\",\"-84.779088\"\n\"29\",\"Citi Bank Roytown\",\"Texas\",\"2869 Dunn Manor Apt. 474, North Breannaview, CT 76546\",\"42.499043\",\"-114.902820\"\n\"2\",\"Citi Bank Gonzalezchester\",\"North Dakota\",\"3777 Candice Village Apt. 438, Staceymouth, TX 13680\",\"30.357058\",\"-108.773270\"\n\"67\",\"Citi Bank Cheryltown\",\"Georgia\",\"110 Vasquez Shores Apt. 306, North Curtisborough, VT 54080\",\"47.726787\",\"-73.197434\"\n\"86\",\"Citi Bank Port Joanland\",\"Virginia\",\"5680 Moreno Avenue, Wendychester, MI 79147\",\"38.705034\",\"-69.804660\"",
      "text/html": [
       "<div class = \"td-resultset-table-div\" style = \"max-height: 100%; overflow-y: auto\">\n",
       "      <table class=\"tdhistory977464\"><style>\n",
       "      table.tdhistory977464 { display: block !important; min-height: 294px !important; overflow: auto !important; height: 294px !important; width: 100% !important; border: 1px solid rgb(207, 207, 207) !important; border-collapse: collapse !important; ; color: var(--jp-ui-font-color1) !important; }\n",
       "      th.tdhistory977464 { border: 1px solid rgb(198,198,198) !important; border-collapse: collapse !important; ; padding: 2px 5px !important; ; font-size: 13px !important; ; text-align: center !important; white-space: normal !important; color: var(--jp-ui-font-color1) !important; }\n",
       "      th.tdhistory977464:last-child { text-align: left !important; }\n",
       "      tbody.tdhistory977464 tr:nth-child(even) { background: rgba(243, 243, 243, 0.75) !important; }\n",
       "      tbody.tdhistory977464 tr:nth-child(odd) { background: var(--jp-ui-inverse-font-color1) !important; }\n",
       "      td.tdhistory977464 { border: 1px solid rgb(207, 207, 207) !important; border-collapse: collapse !important; ; padding: 2px 5px !important; ; font-size: 13px !important; ; text-align: left !important;          white-space: nowrap !important; overflow:hidden !important; text-overflow:ellipsis !important;; }\n",
       "    </style><thead><tr style= \"background: rgba(243, 243, 243, 0.75)\"><th class=\"tdhistory977464\"></th><th class=\"tdhistory977464\">branch_id</th><th class=\"tdhistory977464\">branch_name</th><th class=\"tdhistory977464\">governorate</th><th class=\"tdhistory977464\">branch_address</th><th class=\"tdhistory977464\">latitude</th><th class=\"tdhistory977464\">longitude</th></tr></thead><tbody class=\"tdhistory977464 resultset-body\"><tr><th class=\"tdhistory977464\" style= \"background: rgba(243, 243, 243, 0.75)\">1</th><td class=\"tdhistory977464\">61</td><td class=\"tdhistory977464\">Citi Bank South Christopher</td><td class=\"tdhistory977464\">Montana</td><td class=\"tdhistory977464\">7365 Jason Camp Apt. 793, Campbellborough, IA 94981</td><td class=\"tdhistory977464\">37.945097</td><td class=\"tdhistory977464\">-80.011863</td></tr><tr><th class=\"tdhistory977464\" style= \"background: rgba(243, 243, 243, 0.75)\">2</th><td class=\"tdhistory977464\">63</td><td class=\"tdhistory977464\">Citi Bank Lake Cindy</td><td class=\"tdhistory977464\">Massachusetts</td><td class=\"tdhistory977464\">8182 Hawkins Lodge, West Maria, PA 39134</td><td class=\"tdhistory977464\">32.779745</td><td class=\"tdhistory977464\">-124.966258</td></tr><tr><th class=\"tdhistory977464\" style= \"background: rgba(243, 243, 243, 0.75)\">3</th><td class=\"tdhistory977464\">54</td><td class=\"tdhistory977464\">Citi Bank South Scottmouth</td><td class=\"tdhistory977464\">North Carolina</td><td class=\"tdhistory977464\">24836 Joshua Forks, North Julie, HI 06782</td><td class=\"tdhistory977464\">35.434366</td><td class=\"tdhistory977464\">-118.418422</td></tr><tr><th class=\"tdhistory977464\" style= \"background: rgba(243, 243, 243, 0.75)\">4</th><td class=\"tdhistory977464\">74</td><td class=\"tdhistory977464\">Citi Bank East Vincent</td><td class=\"tdhistory977464\">Kentucky</td><td class=\"tdhistory977464\">17672 Berry Point Apt. 595, Schwartzview, OH 20335</td><td class=\"tdhistory977464\">42.518346</td><td class=\"tdhistory977464\">-93.181531</td></tr><tr><th class=\"tdhistory977464\" style= \"background: rgba(243, 243, 243, 0.75)\">5</th><td class=\"tdhistory977464\">93</td><td class=\"tdhistory977464\">Citi Bank Melissamouth</td><td class=\"tdhistory977464\">Pennsylvania</td><td class=\"tdhistory977464\">3443 Conner Mount, New Jessica, VA 41268</td><td class=\"tdhistory977464\">33.143263</td><td class=\"tdhistory977464\">-101.245344</td></tr><tr><th class=\"tdhistory977464\" style= \"background: rgba(243, 243, 243, 0.75)\">6</th><td class=\"tdhistory977464\">52</td><td class=\"tdhistory977464\">Citi Bank Lake Amanda</td><td class=\"tdhistory977464\">Rhode Island</td><td class=\"tdhistory977464\">963 Emily Creek, Andreafort, NE 24854</td><td class=\"tdhistory977464\">37.887288</td><td class=\"tdhistory977464\">-84.779088</td></tr><tr><th class=\"tdhistory977464\" style= \"background: rgba(243, 243, 243, 0.75)\">7</th><td class=\"tdhistory977464\">29</td><td class=\"tdhistory977464\">Citi Bank Roytown</td><td class=\"tdhistory977464\">Texas</td><td class=\"tdhistory977464\">2869 Dunn Manor Apt. 474, North Breannaview, CT 76546</td><td class=\"tdhistory977464\">42.499043</td><td class=\"tdhistory977464\">-114.902820</td></tr><tr><th class=\"tdhistory977464\" style= \"background: rgba(243, 243, 243, 0.75)\">8</th><td class=\"tdhistory977464\">2</td><td class=\"tdhistory977464\">Citi Bank Gonzalezchester</td><td class=\"tdhistory977464\">North Dakota</td><td class=\"tdhistory977464\">3777 Candice Village Apt. 438, Staceymouth, TX 13680</td><td class=\"tdhistory977464\">30.357058</td><td class=\"tdhistory977464\">-108.773270</td></tr><tr><th class=\"tdhistory977464\" style= \"background: rgba(243, 243, 243, 0.75)\">9</th><td class=\"tdhistory977464\">67</td><td class=\"tdhistory977464\">Citi Bank Cheryltown</td><td class=\"tdhistory977464\">Georgia</td><td class=\"tdhistory977464\">110 Vasquez Shores Apt. 306, North Curtisborough, VT 54080</td><td class=\"tdhistory977464\">47.726787</td><td class=\"tdhistory977464\">-73.197434</td></tr><tr><th class=\"tdhistory977464\" style= \"background: rgba(243, 243, 243, 0.75)\">10</th><td class=\"tdhistory977464\">86</td><td class=\"tdhistory977464\">Citi Bank Port Joanland</td><td class=\"tdhistory977464\">Virginia</td><td class=\"tdhistory977464\">5680 Moreno Avenue, Wendychester, MI 79147</td><td class=\"tdhistory977464\">38.705034</td><td class=\"tdhistory977464\">-69.804660</td></tr></tbody></table></div>"
      ]
     },
     "execution_count": 16,
     "metadata": {
      "application/vnd.teradata.resultset": "{\"resultSetID\":\"/home/jovyan/JupyterLabRoot/Teradata/Resultsets/2025.09.11_06.14.45.657_UTC\",\"historyID\":79,\"chunkID\":\"00001\",\"sessionid\":\"\",\"portnum\":\"\",\"dockermode\":\"docker\",\"totalRowCount\":10,\"chunkCount\":0,\"rowLimit\":0,\"columnMetadata\":[{\"columnName\":\"branch_id\",\"columnTypeName\":\"INTEGER\"},{\"columnNumber\":1,\"columnName\":\"branch_name\",\"columnTypeName\":\"VARCHAR\",\"length\":100,\"scale\":100},{\"columnNumber\":2,\"columnName\":\"governorate\",\"columnTypeName\":\"VARCHAR\",\"length\":50,\"scale\":50},{\"columnNumber\":3,\"columnName\":\"branch_address\",\"columnTypeName\":\"VARCHAR\",\"length\":255,\"scale\":255},{\"columnNumber\":4,\"columnName\":\"latitude\",\"columnTypeName\":\"DECIMAL\",\"length\":6,\"precision\":9,\"scale\":6},{\"columnNumber\":5,\"columnName\":\"longitude\",\"columnTypeName\":\"DECIMAL\",\"length\":6,\"precision\":9,\"scale\":6}]}"
     },
     "output_type": "execute_result"
    }
   ],
   "source": [
    "-- Test\n",
    "SELECT *\n",
    "FROM BANK_DB.branches\n",
    "SAMPLE 10"
   ]
  },
  {
   "cell_type": "code",
   "execution_count": null,
   "id": "da205555-bd2b-4347-a13b-0c665eb7c88b",
   "metadata": {
    "vscode": {
     "languageId": "teradata sql"
    }
   },
   "outputs": [],
   "source": []
  }
 ],
 "metadata": {
  "kernelspec": {
   "display_name": "Teradata SQL",
   "language": "Teradata SQL",
   "name": "teradatasql"
  },
  "language_info": {
   "codemirror_mode": "Teradata SQL",
   "file_extension": ".tdrs",
   "mimetype": "application/vnd.teradata.resultset",
   "name": "Teradata SQL",
   "nbconvert_exporter": "",
   "pygments_lexer": "",
   "version": "16.20"
  }
 },
 "nbformat": 4,
 "nbformat_minor": 5
}
